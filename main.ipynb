{
 "cells": [
  {
   "cell_type": "code",
   "execution_count": 1,
   "id": "fe27eaa1-5af6-42f4-b959-292475011a00",
   "metadata": {
    "execution": {
     "iopub.execute_input": "2024-12-02T14:11:39.097209Z",
     "iopub.status.busy": "2024-12-02T14:11:39.092080Z",
     "iopub.status.idle": "2024-12-02T14:11:39.391716Z",
     "shell.execute_reply": "2024-12-02T14:11:39.391716Z",
     "shell.execute_reply.started": "2024-12-02T14:11:39.092080Z"
    }
   },
   "outputs": [],
   "source": [
    "import pandas as pd"
   ]
  },
  {
   "cell_type": "code",
   "execution_count": 2,
   "id": "e2909a2f-5317-4482-bb4e-80b33fd035ff",
   "metadata": {
    "execution": {
     "iopub.execute_input": "2024-12-02T14:11:39.391716Z",
     "iopub.status.busy": "2024-12-02T14:11:39.391716Z",
     "iopub.status.idle": "2024-12-02T14:11:39.400727Z",
     "shell.execute_reply": "2024-12-02T14:11:39.400727Z",
     "shell.execute_reply.started": "2024-12-02T14:11:39.391716Z"
    }
   },
   "outputs": [
    {
     "data": {
      "text/html": [
       "<div>\n",
       "<style scoped>\n",
       "    .dataframe tbody tr th:only-of-type {\n",
       "        vertical-align: middle;\n",
       "    }\n",
       "\n",
       "    .dataframe tbody tr th {\n",
       "        vertical-align: top;\n",
       "    }\n",
       "\n",
       "    .dataframe thead th {\n",
       "        text-align: right;\n",
       "    }\n",
       "</style>\n",
       "<table border=\"1\" class=\"dataframe\">\n",
       "  <thead>\n",
       "    <tr style=\"text-align: right;\">\n",
       "      <th></th>\n",
       "      <th>名字</th>\n",
       "      <th>加班了吗</th>\n",
       "      <th>吃饭了吗</th>\n",
       "    </tr>\n",
       "  </thead>\n",
       "  <tbody>\n",
       "    <tr>\n",
       "      <th>0</th>\n",
       "      <td>小王</td>\n",
       "      <td>加班</td>\n",
       "      <td>没吃饭</td>\n",
       "    </tr>\n",
       "    <tr>\n",
       "      <th>1</th>\n",
       "      <td>小张</td>\n",
       "      <td>没加班</td>\n",
       "      <td>没吃饭</td>\n",
       "    </tr>\n",
       "    <tr>\n",
       "      <th>2</th>\n",
       "      <td>小李</td>\n",
       "      <td>加班</td>\n",
       "      <td>吃饭</td>\n",
       "    </tr>\n",
       "    <tr>\n",
       "      <th>3</th>\n",
       "      <td>小刘</td>\n",
       "      <td>没加班</td>\n",
       "      <td>吃饭</td>\n",
       "    </tr>\n",
       "  </tbody>\n",
       "</table>\n",
       "</div>"
      ],
      "text/plain": [
       "   名字 加班了吗 吃饭了吗\n",
       "0  小王   加班  没吃饭\n",
       "1  小张  没加班  没吃饭\n",
       "2  小李   加班   吃饭\n",
       "3  小刘  没加班   吃饭"
      ]
     },
     "execution_count": 2,
     "metadata": {},
     "output_type": "execute_result"
    }
   ],
   "source": [
    "# 吃饭/没吃饭 和 加班/没加班 做笛卡尔积\n",
    "# 下面是所有可能的情况\n",
    "df = pd.DataFrame({\n",
    "    \"名字\": [\"小王\", \"小张\", \"小李\", \"小刘\"],\n",
    "    \"加班了吗\": [\"加班\", \"没加班\", \"加班\", \"没加班\"],\n",
    "    \"吃饭了吗\": [\"没吃饭\", \"没吃饭\", \"吃饭\", \"吃饭\"]\n",
    "})\n",
    "df"
   ]
  },
  {
   "cell_type": "code",
   "execution_count": 3,
   "id": "0f6ade6f-a8aa-4119-836a-9f095fc3aaa5",
   "metadata": {
    "execution": {
     "iopub.execute_input": "2024-12-02T14:11:39.402741Z",
     "iopub.status.busy": "2024-12-02T14:11:39.400727Z",
     "iopub.status.idle": "2024-12-02T14:11:39.411195Z",
     "shell.execute_reply": "2024-12-02T14:11:39.411195Z",
     "shell.execute_reply.started": "2024-12-02T14:11:39.402741Z"
    }
   },
   "outputs": [
    {
     "data": {
      "text/html": [
       "<div>\n",
       "<style scoped>\n",
       "    .dataframe tbody tr th:only-of-type {\n",
       "        vertical-align: middle;\n",
       "    }\n",
       "\n",
       "    .dataframe tbody tr th {\n",
       "        vertical-align: top;\n",
       "    }\n",
       "\n",
       "    .dataframe thead th {\n",
       "        text-align: right;\n",
       "    }\n",
       "</style>\n",
       "<table border=\"1\" class=\"dataframe\">\n",
       "  <thead>\n",
       "    <tr style=\"text-align: right;\">\n",
       "      <th></th>\n",
       "      <th>名字</th>\n",
       "      <th>加班了吗</th>\n",
       "      <th>吃饭了吗</th>\n",
       "    </tr>\n",
       "  </thead>\n",
       "  <tbody>\n",
       "    <tr>\n",
       "      <th>0</th>\n",
       "      <td>小王</td>\n",
       "      <td>加班</td>\n",
       "      <td>没吃饭</td>\n",
       "    </tr>\n",
       "    <tr>\n",
       "      <th>1</th>\n",
       "      <td>小张</td>\n",
       "      <td>没加班</td>\n",
       "      <td>吃饭</td>\n",
       "    </tr>\n",
       "    <tr>\n",
       "      <th>2</th>\n",
       "      <td>小李</td>\n",
       "      <td>加班</td>\n",
       "      <td>吃饭</td>\n",
       "    </tr>\n",
       "    <tr>\n",
       "      <th>3</th>\n",
       "      <td>小刘</td>\n",
       "      <td>没加班</td>\n",
       "      <td>吃饭</td>\n",
       "    </tr>\n",
       "  </tbody>\n",
       "</table>\n",
       "</div>"
      ],
      "text/plain": [
       "   名字 加班了吗 吃饭了吗\n",
       "0  小王   加班  没吃饭\n",
       "1  小张  没加班   吃饭\n",
       "2  小李   加班   吃饭\n",
       "3  小刘  没加班   吃饭"
      ]
     },
     "execution_count": 3,
     "metadata": {},
     "output_type": "execute_result"
    }
   ],
   "source": [
    "# 题目说所有没加班的人都吃了饭\n",
    "# 改一下这个 DataFrame 让它符合题目要求\n",
    "mask = df['加班了吗'] == '没加班'\n",
    "df.loc[mask, \"吃饭了吗\"] = \"吃饭\"\n",
    "df"
   ]
  },
  {
   "cell_type": "code",
   "execution_count": 4,
   "id": "4a4d7f69-1323-4b97-918c-3def554257b8",
   "metadata": {
    "execution": {
     "iopub.execute_input": "2024-12-02T14:11:39.411195Z",
     "iopub.status.busy": "2024-12-02T14:11:39.411195Z",
     "iopub.status.idle": "2024-12-02T14:11:39.415817Z",
     "shell.execute_reply": "2024-12-02T14:11:39.415817Z",
     "shell.execute_reply.started": "2024-12-02T14:11:39.411195Z"
    }
   },
   "outputs": [
    {
     "data": {
      "text/plain": [
       "['加班']"
      ]
     },
     "execution_count": 4,
     "metadata": {},
     "output_type": "execute_result"
    }
   ],
   "source": [
    "# 看一下是不是所有没吃饭的人，就一定在加班\n",
    "mask = df['吃饭了吗'] == '没吃饭'\n",
    "df[mask]['加班了吗'].tolist()"
   ]
  },
  {
   "cell_type": "markdown",
   "id": "c2363130-9ecf-4656-8306-0d70f4c74adf",
   "metadata": {},
   "source": [
    "是啦，是在加班"
   ]
  }
 ],
 "metadata": {
  "kernelspec": {
   "display_name": "Python 3 (ipykernel)",
   "language": "python",
   "name": "python3"
  },
  "language_info": {
   "codemirror_mode": {
    "name": "ipython",
    "version": 3
   },
   "file_extension": ".py",
   "mimetype": "text/x-python",
   "name": "python",
   "nbconvert_exporter": "python",
   "pygments_lexer": "ipython3",
   "version": "3.12.3"
  }
 },
 "nbformat": 4,
 "nbformat_minor": 5
}
